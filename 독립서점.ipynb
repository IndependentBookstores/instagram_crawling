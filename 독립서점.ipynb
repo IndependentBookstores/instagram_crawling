{
 "cells": [
  {
   "cell_type": "code",
   "execution_count": 1,
   "id": "5c9df9ff",
   "metadata": {},
   "outputs": [],
   "source": [
    "import pandas as pd  # 표 형식의 데이터를 다룰 수 있는 pandas를 pd라고 줄여서 불러옵니다\n",
    "from selenium import webdriver  # 크롬 창을 조종하기 위한 모듈입니다\n",
    "from selenium.webdriver.common.by import By  # 웹사이트의 구성요소를 선택하기 위해 By 모듈을 불려옵니다\n",
    "# 웹페이지가 전부 로드될때까지 기다리는 (Explicitly wait) 기능을 하는 모듈입니다\n",
    "from selenium.webdriver.support.ui import WebDriverWait\n",
    "# 크롬에서 크롤링을 하기 위해, 웹 드라이버를 설치하는 모듈입니다\n",
    "from webdriver_manager.chrome import ChromeDriverManager\n",
    "# 크롬의 어떤 부분의 상태를 확인하는 모듈입니다\n",
    "from selenium.webdriver.support import expected_conditions as EC\n",
    "import time  # 정해진 시간만큼 기다리게 하기 위한 패키지입니다\n",
    "from selenium.webdriver.chrome.options import Options  # 크롬 옵션\n",
    "from selenium.webdriver.common.keys import Keys  # 브라우저에 키입력 용\n",
    "from selenium.webdriver.common.by import By  # webdriver를 이용해 태그를 찾기 위함\n",
    "from selenium.webdriver.support.ui import WebDriverWait  # Explicitly wait을 위함\n",
    "from selenium.webdriver.chrome.service import Service\n",
    "from selenium.webdriver.support import expected_conditions as EC  # 브라우저에 특정 요소 상태 확인을 위해\n",
    "import requests  # bs 이용해서 필요한 정보 가져오기 위함\n",
    "from bs4 import BeautifulSoup  # 브라우저 태그를 가져오고 파싱하기 위함\n",
    "from selenium.common.exceptions import NoSuchElementException, StaleElementReferenceException, TimeoutException  # 예외처리를 위한 예외들\n"
   ]
  },
  {
   "cell_type": "code",
   "execution_count": 3,
   "id": "20a636e0",
   "metadata": {
    "scrolled": false
   },
   "outputs": [],
   "source": [
    "filename = 'C:\\\\Users\\\\ghkdd\\\\Desktop\\\\Python\\\\독립서점\\\\독립서점.csv'\n",
    "df = pd.read_csv(filename, encoding='utf-8')\n",
    "\n",
    "keyword = []\n",
    "keyword = df.get('ESNTL_ID')\n",
    "\n",
    "\n",
    "# 크롬 드라이버 위치\n",
    "chrome_driver_path = 'C:\\\\Users\\\\ghkdd\\\\Desktop\\\\Python\\\\독립서점\\\\chromedriver.exe'\n",
    "\n",
    "# 크롬 옵션\n",
    "service = Service(executable_path=chrome_driver_path)\n",
    "chrome_options = Options()\n",
    "chrome_options.add_experimental_option(\"detach\", True)\n",
    "chrome_options.add_experimental_option(\"excludeSwitches\", [\"enable-logging\"])\n",
    "\n",
    "# Provide the path to the ChromeDriver executable\n",
    "driver = webdriver.Chrome(service=service, options=chrome_options)\n",
    "\n",
    "# Continue with your script\n",
    "driver.get('https://www.instagram.com')\n",
    "\n",
    "#로그인\n",
    "login()\n",
    "\n",
    "\n"
   ]
  },
  {
   "cell_type": "code",
   "execution_count": 2,
   "id": "8049d49c",
   "metadata": {},
   "outputs": [],
   "source": [
    "def login():\n",
    "    WebDriverWait(driver, 10).until(\n",
    "        EC.presence_of_element_located((By.TAG_NAME, 'input'))\n",
    "    )\n",
    "    id = 'shalve99'\n",
    "    pw = 'luvsong70@'\n",
    "    input = driver.find_elements(By.TAG_NAME, 'input')\n",
    "    input[0].send_keys(id)\n",
    "    input[1].send_keys(pw)\n",
    "    input[1].send_keys(Keys.ENTER)\n",
    "    \n",
    "    "
   ]
  },
  {
   "cell_type": "code",
   "execution_count": null,
   "id": "b4647c31",
   "metadata": {},
   "outputs": [],
   "source": [
    "def popup():\n",
    "    \n"
   ]
  }
 ],
 "metadata": {
  "kernelspec": {
   "display_name": "Python 3 (ipykernel)",
   "language": "python",
   "name": "python3"
  },
  "language_info": {
   "codemirror_mode": {
    "name": "ipython",
    "version": 3
   },
   "file_extension": ".py",
   "mimetype": "text/x-python",
   "name": "python",
   "nbconvert_exporter": "python",
   "pygments_lexer": "ipython3",
   "version": "3.9.13"
  }
 },
 "nbformat": 4,
 "nbformat_minor": 5
}
