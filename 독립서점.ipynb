{
 "cells": [
  {
   "cell_type": "code",
   "execution_count": 1,
   "id": "5c9df9ff",
   "metadata": {},
   "outputs": [],
   "source": [
    "import pandas as pd  # 표 형식의 데이터를 다룰 수 있는 pandas를 pd라고 줄여서 불러옵니다\n",
    "from selenium import webdriver  # 크롬 창을 조종하기 위한 모듈입니다\n",
    "from selenium.webdriver.common.by import By  # 웹사이트의 구성요소를 선택하기 위해 By 모듈을 불려옵니다\n",
    "# 웹페이지가 전부 로드될때까지 기다리는 (Explicitly wait) 기능을 하는 모듈입니다\n",
    "from selenium.webdriver.support.ui import WebDriverWait\n",
    "# 크롬에서 크롤링을 하기 위해, 웹 드라이버를 설치하는 모듈입니다\n",
    "from webdriver_manager.chrome import ChromeDriverManager\n",
    "# 크롬의 어떤 부분의 상태를 확인하는 모듈입니다\n",
    "from selenium.webdriver.support import expected_conditions as EC\n",
    "import time  # 정해진 시간만큼 기다리게 하기 위한 패키지입니다\n",
    "from selenium.webdriver.chrome.options import Options  # 크롬 옵션\n",
    "from selenium.webdriver.common.keys import Keys  # 브라우저에 키입력 용\n",
    "from selenium.webdriver.common.by import By  # webdriver를 이용해 태그를 찾기 위함\n",
    "from selenium.webdriver.support.ui import WebDriverWait  # Explicitly wait을 위함\n",
    "from selenium.webdriver.chrome.service import Service\n",
    "from selenium.webdriver.support import expected_conditions as EC  # 브라우저에 특정 요소 상태 확인을 위해\n",
    "import requests  # bs 이용해서 필요한 정보 가져오기 위함\n",
    "from bs4 import BeautifulSoup  # 브라우저 태그를 가져오고 파싱하기 위함\n",
    "from selenium.common.exceptions import NoSuchElementException, StaleElementReferenceException, TimeoutException  # 예외처리를 위한 예외들\n"
   ]
  },
  {
   "cell_type": "code",
   "execution_count": null,
   "id": "20a636e0",
   "metadata": {
    "scrolled": false
   },
   "outputs": [
    {
     "name": "stdout",
     "output_type": "stream",
     "text": [
      "midday_sea\n",
      "kwon.hyunhee\n",
      "\n",
      "\n",
      "\n",
      "masilbooks\n",
      "\n",
      "\n",
      "flaneuse21th\n",
      "your_jakupsil\n",
      "erang.design.studio\n",
      "gourmetbooks\n",
      "\n",
      "\n",
      "\n",
      "\n",
      "\n",
      "\n",
      "\n",
      "\n",
      "\n",
      "회원님을 위한 추천\n",
      "\n",
      "\n",
      "\n",
      "\n",
      "0534_food\n",
      "broccoli_soop\n"
     ]
    }
   ],
   "source": [
    "filename = 'C:\\\\Users\\\\ghkdd\\\\Desktop\\\\Python\\\\독립서점\\\\독립서점.csv'\n",
    "df = pd.read_csv(filename, encoding='utf-8')\n",
    "\n",
    "keyword = []\n",
    "link = []\n",
    "account = []\n",
    "keyword = df.get('FCLTY_NM')\n",
    "\n",
    "\n",
    "# 크롬 드라이버 위치\n",
    "chrome_driver_path = 'C:\\\\Users\\\\ghkdd\\\\Desktop\\\\Python\\\\독립서점\\\\chromedriver.exe'\n",
    "\n",
    "# 크롬 옵션\n",
    "service = Service(executable_path=chrome_driver_path)\n",
    "chrome_options = Options()\n",
    "chrome_options.add_experimental_option(\"detach\", True)\n",
    "chrome_options.add_experimental_option(\"excludeSwitches\", [\"enable-logging\"])\n",
    "\n",
    "# Provide the path to the ChromeDriver executable\n",
    "driver = webdriver.Chrome(service=service, options=chrome_options)\n",
    "\n",
    "# Continue with your script\n",
    "driver.get('https://www.instagram.com')\n",
    "\n",
    "#로그인\n",
    "login()\n",
    "#알림 팝업 넘기기\n",
    "alarmPopup()\n",
    "#검색 버튼 클릭\n",
    "searchClick()\n",
    "#검색\n",
    "for i in range(len(keyword)):\n",
    "    link.append(search(i, keyword[i]))\n",
    "    \n",
    "    \n",
    "    \n",
    "    \n",
    "\n",
    "\n"
   ]
  },
  {
   "cell_type": "code",
   "execution_count": 2,
   "id": "8049d49c",
   "metadata": {},
   "outputs": [],
   "source": [
    "def login():\n",
    "    WebDriverWait(driver, 10).until(\n",
    "        EC.presence_of_element_located((By.TAG_NAME, 'input'))\n",
    "    )\n",
    "    id = 'shalve99'\n",
    "    pw = 'luvsong70@'\n",
    "    input = driver.find_elements(By.TAG_NAME, 'input')\n",
    "    input[0].send_keys(id)\n",
    "    input[1].send_keys(pw)\n",
    "    input[1].send_keys(Keys.ENTER)\n",
    "    \n",
    "    "
   ]
  },
  {
   "cell_type": "code",
   "execution_count": 3,
   "id": "25c7581e",
   "metadata": {},
   "outputs": [],
   "source": [
    "def alarmPopup():\n",
    "    popup1 = WebDriverWait(driver, 10).until(\n",
    "        EC.presence_of_element_located((By.CLASS_NAME, '_ac8f'))\n",
    "    )\n",
    "    popup1.click()\n",
    "    \n",
    "    WebDriverWait(driver, 10).until(\n",
    "        EC.presence_of_element_located((By.CLASS_NAME, '_a9-v'))\n",
    "    )\n",
    "    popup2 = driver.find_element(By.CLASS_NAME, '_a9-z')\n",
    "    btn = popup2.find_elements(By.TAG_NAME, 'button')\n",
    "    btn[1].send_keys(Keys.ENTER)\n",
    "    \n"
   ]
  },
  {
   "cell_type": "code",
   "execution_count": 4,
   "id": "c7c888c3",
   "metadata": {},
   "outputs": [],
   "source": [
    "def searchClick():\n",
    "    WebDriverWait(driver, 10).until(\n",
    "        EC.presence_of_element_located((By.TAG_NAME, 'svg'))\n",
    "    )\n",
    "    svg_btn = driver.find_elements(By.TAG_NAME, 'svg')\n",
    "    svg_btn[2].click()\n",
    "    "
   ]
  },
  {
   "cell_type": "code",
   "execution_count": 37,
   "id": "e5abcf7b",
   "metadata": {},
   "outputs": [],
   "source": [
    "def search(i, keyword):  \n",
    "    time.sleep(2)\n",
    "    input = driver.find_element(By.TAG_NAME, 'input')\n",
    "    input.clear()\n",
    "    input.send_keys(keyword)   \n",
    "    time.sleep(1)\n",
    "    information = ''\n",
    "    href = ''\n",
    "    account = ''\n",
    "    try:\n",
    "        aClass = driver.find_elements(By.CLASS_NAME, 'x1i10hfl.x1qjc9v5')\n",
    "        span = driver.find_elements(By.CLASS_NAME, 'x1lliihq.x1plvlek')\n",
    "        if(aClass):\n",
    "            href = aClass[0].get_attribute('href')\n",
    "            account = span[1].text\n",
    "            if('/explore/tags/%' in href):\n",
    "                href = ''\n",
    "                account = ''\n",
    "            print(account)\n",
    "    except Exception as e:\n",
    "        print(f\"An error occurred: {str(e)}\")\n",
    "   \n",
    "    return href\n",
    "    \n",
    "    \n",
    "    "
   ]
  },
  {
   "cell_type": "code",
   "execution_count": null,
   "id": "e462072e",
   "metadata": {},
   "outputs": [],
   "source": []
  },
  {
   "cell_type": "code",
   "execution_count": null,
   "id": "ae5fb3f0",
   "metadata": {},
   "outputs": [],
   "source": []
  },
  {
   "cell_type": "code",
   "execution_count": null,
   "id": "3ce4bfbf",
   "metadata": {},
   "outputs": [],
   "source": []
  }
 ],
 "metadata": {
  "kernelspec": {
   "display_name": "Python 3 (ipykernel)",
   "language": "python",
   "name": "python3"
  },
  "language_info": {
   "codemirror_mode": {
    "name": "ipython",
    "version": 3
   },
   "file_extension": ".py",
   "mimetype": "text/x-python",
   "name": "python",
   "nbconvert_exporter": "python",
   "pygments_lexer": "ipython3",
   "version": "3.9.13"
  }
 },
 "nbformat": 4,
 "nbformat_minor": 5
}
